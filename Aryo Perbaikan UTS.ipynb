{
 "cells": [
  {
   "cell_type": "markdown",
   "id": "75efa58d",
   "metadata": {},
   "source": [
    "1.Kriteria algoritma adalah memiliki instruksi yang jelas sehingga proses yang dikerjakan tidak ambigu dan membingungkan. Kriteria tersebut adalah \n",
    "\n",
    "A.Finitness\n",
    "\n",
    "B.Definiteness\n",
    "\n",
    "C.Effectiveness\n",
    "\n",
    "D.Exactly\n",
    "\n",
    "E.Unambiguous\n",
    "\n",
    "jawaban : b  \n",
    "\n",
    " \n",
    "  "
   ]
  },
  {
   "cell_type": "markdown",
   "id": "0f17ab65",
   "metadata": {},
   "source": [
    "2.Berdasarkan flowchart yang ada pada file attachment, Output apakah yang dihasilkan, jika\n",
    "\n",
    "-umur diisi dengan angka 4\n",
    "-tinggi diisi dengan angka 70\n",
    "A.Pengunjung dilarang naik wahana\n",
    "B.27000\n",
    "C.36000\n",
    "D.45000\n",
    "E.47500 \n",
    "\n",
    "jawaban :a"
   ]
  },
  {
   "cell_type": "markdown",
   "id": "36b0c075",
   "metadata": {},
   "source": [
    "3.Jika terdapat pseudocode seperti berikut ini:\n",
    "\n",
    "program salary_counting\n",
    "\n",
    "declaration:\n",
    "   var salary, num_of_work_days, num_off_days, transport_allowance:integer\n",
    "   transport_allowance : 20000\n",
    "algorithm:\n",
    "  read(num_of_work_days,num_off_days); {input user} \n",
    "  salary -> num_of_work_days * 300000 - (num_off_days * transport_allowance)\n",
    "  salary -> salary - (num_off_days * 300000)\n",
    "  \n",
    "  write(salary)\n",
    "\n",
    "Output apakah yang ditampilkan jika num_of_work_days diisi dengan nilai 22 dan num_off_days diisi dengan 5\n",
    "\n",
    " \n",
    "\n",
    "A.-1500000\n",
    "B.3000000\n",
    "C.3500000\n",
    "D.5000000\n",
    "E.5900000 \n",
    "\n",
    "jawaban :d"
   ]
  },
  {
   "cell_type": "markdown",
   "id": "1aa97bc7",
   "metadata": {},
   "source": [
    "4.Pada saat menggunakan IDE Jupyter Notebooks, untuk membuat cell markdown dengan tulisan JUPYTER GOODBOOKS dibawah cell code yang masih dalam keadaan aktif yaitu dengan cara ...\n",
    "\n",
    "A.ESCAPE -> B -> M -> ENTER -> JUPYTER GOODBOOKS\n",
    "B.ESCAPE -> A -> M -> ENTER -> JUPYTER GOODBOOKS\n",
    "C.ESCAPE -> B -> C -> ENTER -> JUPYTER GOODBOOKS\n",
    "D.ESCAPE -> M -> B -> ENTER -> JUPYTER GOODBOOKS\n",
    "E.ESCAPE -> M -> A -> ENTER -> JUPYTER GOODBOOKS \n",
    "\n",
    "jawaban : d"
   ]
  },
  {
   "cell_type": "markdown",
   "id": "fc3452c2",
   "metadata": {},
   "source": [
    "v5.Proses untuk mengidentifikasi sebuah folder agar dilakukan tracking menggunakan git adalah dengan menggunakan perintah \n",
    "\n",
    "A.git config\n",
    "B.git status\n",
    "C.git init\n",
    "D.git commit -m\n",
    "E.git push -u add origin master git_url \n",
    "\n",
    "jawaban : a"
   ]
  },
  {
   "cell_type": "markdown",
   "id": "9245009e",
   "metadata": {},
   "source": [
    "6.Berikut ini adalah aturan penamaan variabel yang tepat pada pemrograman python\n",
    "\n",
    "A.Nama variabel tidak boleh menggunakan underscore (_)\n",
    "B.Nama variabel tidak boleh menggunakan angka dan underscore(_)\n",
    "C.Nama variabel boleh menggunakan karakter @\n",
    "D.Nama variabel hanya boleh diawali oleh huruf\n",
    "E.Nama variabel hanya boleh diawali oleh huruf atau underscore.\n",
    "\n",
    "jawaban :d"
   ]
  },
  {
   "cell_type": "markdown",
   "id": "1ef45b95",
   "metadata": {},
   "source": [
    "v7.Output apakah yang dihasilkan, jika kode program seperti pada file attachment di eksekusi\n",
    "\n",
    "A.Error line 2\n",
    "B.Error line 3\n",
    "C.The book with the title 'My Programming is My Adventure' has a price 1000000\n",
    "D.The book with the title 'My Programming is My Adventure' has a price 1_000_000\n",
    "E.Program tidak error dan tidak ada jawaban yang tepat \n",
    "\n",
    "jawaban :e"
   ]
  },
  {
   "cell_type": "markdown",
   "id": "6b36eb01",
   "metadata": {},
   "source": [
    "8.Jika terdapat kode program seperti pada file attachment, baris manakah yang menjadi penyebab error?\n",
    "\n",
    "A.3 dan 5\n",
    "B.3 dan 4\n",
    "C.3\n",
    "D.4\n",
    "E.5 \n",
    "\n",
    "jawaban :a"
   ]
  },
  {
   "cell_type": "markdown",
   "id": "3fc91e62",
   "metadata": {},
   "source": [
    "v9.Output apakah yang ditampilkan pada kode program seperti pada file attachment\n",
    "\n",
    "A.1 True True True\n",
    "B.0 True True True\n",
    "C.0 True True False\n",
    "D.1 True True False\n",
    "E.0 True False True\n",
    "\n",
    "jawaban :a"
   ]
  },
  {
   "cell_type": "markdown",
   "id": "c7a0dfd8",
   "metadata": {},
   "source": [
    "vv10.Hasil output apakah yang dihasilkan jika terdapat angka dengan nilai = 255 kemudian dioperasikan AND dengan nilai = 15 ?\n",
    "\n",
    "A.True\n",
    "B.False\n",
    "C.15\n",
    "D.240\n",
    "E.270\n",
    "\n",
    "jawaban : a"
   ]
  },
  {
   "cell_type": "markdown",
   "id": "d525962d",
   "metadata": {},
   "source": [
    "11.Terdapat variabel seperti berikut ini:\n",
    "\n",
    "address = \"Jalan Cibolang Kaler Nomor 21\"\n",
    "\n",
    "jika output yang diinginkan adalah jC maka proses pada kode program manakah yang benar ?\n",
    "\n",
    "A.c1 = address[1].lower(); c2 = address[7] ; print(c0 + c1)\n",
    "B.address = address.lower();c1 = address[0]; c2 = address[6] ; print(c1 + c2)\n",
    "C.address = address.upper();c1 = address[0].lower(); c2 = address[6].lower() ; print(c1 + c2)\n",
    "D.c1 = address[0].lower(); c2 = address[6] ; print(c1 + c2)\n",
    "E.address = address.lower();c1 = address[0].lower(); c2 = address[6] ; print(c1 + c2)\n",
    "\n",
    "jawaban : c"
   ]
  },
  {
   "cell_type": "markdown",
   "id": "e86eae77",
   "metadata": {},
   "source": [
    "12.Setiap kondisi yang dilakukan pengecekan pada percabangan, pasti akan berisikan operator ...\n",
    "\n",
    "A.Aritmatika\n",
    "B.Perbandingan\n",
    "C.Penugasan\n",
    "D.Bitwise\n",
    "E.Penjumlahan\n",
    "\n",
    "jawaban :a"
   ]
  },
  {
   "cell_type": "markdown",
   "id": "77f79b09",
   "metadata": {},
   "source": [
    "13.Manakah pernyataan berikut ini yang paling tepat?\n",
    "\n",
    "A.kode if selalu berpasangan dengan elif\n",
    "B.kode elif tidak harus selalu ada if diawal kondisi percabangan\n",
    "C.kode if boleh diletakkan di dalam if dengan menggunakan indentasi/TAB\n",
    "D.statement yang akan dieksekusi ketika kondisi percabangan terpenuhi (True) tidak harus menggunakan indentasi/TAB\n",
    "E.Indentasi/TAB digunakan hanya untuk perulangan\n",
    "\n",
    "jawaban : a"
   ]
  },
  {
   "cell_type": "markdown",
   "id": "399f2dbc",
   "metadata": {},
   "source": [
    "14.Output apakah yang ditampilkan jika kode program seperti pada file attachment dieksekusi?\n",
    "\n",
    "A.winger defender keeper\n",
    "B.playmaker defender keeper\n",
    "C.playmaker attacker\n",
    "D.winger defender\n",
    "E.playmaker attacker defender\n",
    "\n",
    "jawaban : a"
   ]
  },
  {
   "cell_type": "markdown",
   "id": "c70363f3",
   "metadata": {},
   "source": [
    "15.Jika output kode program pada file attachment yang diinginkan adalah winger defender , maka nilai dari number_of_player diganti dengan\n",
    "\n",
    "A.20\n",
    "B.30\n",
    "C.50\n",
    "D.70\n",
    "E.80\n",
    "\n",
    "jawaban : a"
   ]
  },
  {
   "cell_type": "markdown",
   "id": "45268912",
   "metadata": {},
   "source": [
    "16.Looping for digunakan pada saat ..\n",
    "\n",
    "A.Terdapat statement yang akan dijalankan secara berulang-ulang\n",
    "B.Permasalahan perulangan telah diketahui batas awal dan batas akhirnya\n",
    "C.Permasalahan perulangan tidak diketahui batas awal dan batas akhirnya\n",
    "D.Terdapat kenaikan nilai per step/tahap\n",
    "E.Permasalahan perulangan yang sederhana\n",
    "\n",
    "jawaban : b"
   ]
  },
  {
   "cell_type": "markdown",
   "id": "95a7dfc2",
   "metadata": {},
   "source": [
    "17.Ciri-ciri dari looping while adalah ...\n",
    "\n",
    "A.Terdapat inisialisasi nilai pada blok kode perulangan\n",
    "B.Terdapat proses increment\n",
    "C.Terdapat proses decrement\n",
    "D.Terdapat statement yang akan mengubah nilai kondisi pada while menjadi False\n",
    "E.Tidak ada jawaban yang tepat\n",
    "\n",
    "jawaban : e"
   ]
  },
  {
   "cell_type": "markdown",
   "id": "703f5d10",
   "metadata": {},
   "source": [
    "18.Output apakah yang dihasilkan, jika kode program seperti pada file attachment dieksekusi\n",
    "\n",
    "A.20\n",
    "B.50 40 30\n",
    "C.50 40 30 20\n",
    "D.50 40 30 20 10\n",
    "E.Error Program\n",
    "\n",
    "jawaban : a"
   ]
  },
  {
   "cell_type": "markdown",
   "id": "ac96af92",
   "metadata": {},
   "source": [
    "19.Output apakah yang dihasilkan, jika kode program seperti pada file attachment dieksekusi\n",
    "\n",
    "A.1 9\n",
    "B.5\n",
    "C.1 3 9\n",
    "D.5 35\n",
    "E.1 15 45\n",
    "\n",
    "jawaban : d"
   ]
  },
  {
   "cell_type": "markdown",
   "id": "442236ac",
   "metadata": {},
   "source": [
    "20.Jika terdapat kode program seperti pada file attachment\n",
    "\n",
    "Output apakah yang dihasilkan, jika kode program tersebut dieksekusi?\n",
    "\n",
    "A.-1 -2 -3 -4 -5 -6 -7 -8 -9 -10\n",
    "B.10 9 8 7 6 5 4 3 2 1\n",
    "C.-1 2 -3 4 -5 6 -7 8 -9 10\n",
    "D.Tidak ada output yang ditampilkan\n",
    "E.Program akan menampilkan nilai yang berkurang 1 terus menerus tak hingga (infinite loop)\n",
    "\n",
    "jawaban : e"
   ]
  },
  {
   "cell_type": "code",
   "execution_count": 4,
   "id": "82011767",
   "metadata": {},
   "outputs": [
    {
     "name": "stdout",
     "output_type": "stream",
     "text": [
      "Test case\n",
      "alunsujjada@gmailcom => False\n",
      "alunsujjada@gmail.com => True\n",
      "alun.sujjada@gmail.com => False\n",
      "alunsujjada.gmail.com => False\n",
      "alun.sujjada@gmailcom => False\n",
      "\n",
      "Test case custom input\n",
      "Masukan email: aryogaluhsaputra@gmail.com\n",
      "aryogaluhsaputra@gmail.com => True\n"
     ]
    }
   ],
   "source": [
    "def isEmailValid(email):\n",
    "    pos_at = email.find(\"@\")\n",
    "    pos_dot = email.find(\".\")\n",
    "    \n",
    "    return (pos_at >= 0 and pos_dot >= 0 and (pos_at < pos_dot))\n",
    "\n",
    "print(\"Test case\")\n",
    "emails = ['alunsujjada@gmailcom', 'alunsujjada@gmail.com', 'alun.sujjada@gmail.com', 'alunsujjada.gmail.com', 'alun.sujjada@gmailcom']\n",
    "\n",
    "for email in emails:\n",
    "    valid = isEmailValid(email)\n",
    "    print(f\"{email} => {valid}\")\n",
    "    \n",
    "print(\"\\nTest case custom input\")\n",
    "email = input(\"Masukan email: \")\n",
    "valid = isEmailValid(email)\n",
    "\n",
    "print(f\"{email} => {valid}\")"
   ]
  },
  {
   "cell_type": "code",
   "execution_count": 3,
   "id": "0e18fdcd",
   "metadata": {},
   "outputs": [
    {
     "name": "stdout",
     "output_type": "stream",
     "text": [
      "masukan kalimat andaSaya Sedang Makan Ikan Lele\n",
      "54y4 53d4ng M4k4n Ik4n 73l3\n"
     ]
    }
   ],
   "source": [
    "kalimat = input(\"masukan kalimat anda\")\n",
    "sandi = ''\n",
    "for i in range (len(kalimat)):\n",
    "    if kalimat[i] == 'a' or kalimat[i] == 'A':\n",
    "        sandi = sandi + '4'\n",
    "    \n",
    "    elif kalimat[i] == 'e' or kalimat[i] == 'E':\n",
    "        sandi = sandi + '3'\n",
    "        \n",
    "    elif kalimat[i] == 'L':\n",
    "        sandi = sandi + '7'\n",
    "    \n",
    "    elif kalimat[i] == 'S':\n",
    "        sandi = sandi + '5'\n",
    "    \n",
    "        \n",
    "    else:\n",
    "        sandi = sandi + kalimat[i]\n",
    "print(sandi)\n"
   ]
  }
 ],
 "metadata": {
  "kernelspec": {
   "display_name": "Python 3 (ipykernel)",
   "language": "python",
   "name": "python3"
  },
  "language_info": {
   "codemirror_mode": {
    "name": "ipython",
    "version": 3
   },
   "file_extension": ".py",
   "mimetype": "text/x-python",
   "name": "python",
   "nbconvert_exporter": "python",
   "pygments_lexer": "ipython3",
   "version": "3.9.12"
  }
 },
 "nbformat": 4,
 "nbformat_minor": 5
}
